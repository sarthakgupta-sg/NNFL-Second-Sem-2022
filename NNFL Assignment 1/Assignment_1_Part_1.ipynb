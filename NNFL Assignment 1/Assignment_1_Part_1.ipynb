{
  "nbformat": 4,
  "nbformat_minor": 0,
  "metadata": {
    "colab": {
      "name": "Neural_Network_from_scratch_Assignment1_Part1.ipynb",
      "provenance": [],
      "collapsed_sections": [
        "yQ0sJoIfBCA8"
      ],
      "toc_visible": true,
      "private_outputs": true
    },
    "kernelspec": {
      "name": "python3",
      "display_name": "Python 3"
    },
    "language_info": {
      "name": "python"
    }
  },
  "cells": [
    {
      "cell_type": "code",
      "execution_count": null,
      "metadata": {
        "id": "fzhakVoUHxhx"
      },
      "outputs": [],
      "source": [
        "from google.colab import files\n",
        "files.upload()"
      ]
    },
    {
      "cell_type": "markdown",
      "source": [
        ":Before you turn this problem in, make sure everything runs as expected. First, **restart the kernel** (in the menubar, select Kernel$\\rightarrow$Restart) and then **run all cells** (in the menubar, select Cell$\\rightarrow$Run All).\n",
        "\n",
        "Make sure you fill in any place that says `YOUR CODE STARTS HERE` or \"YOUR ANSWER HERE\", as well as your name and ID number below:"
      ],
      "metadata": {
        "id": "6BVDCm_48Daj"
      }
    },
    {
      "cell_type": "code",
      "source": [
        "NAME = \"\"\n",
        "ID = \"\""
      ],
      "metadata": {
        "id": "4QXpkM3O8IhT"
      },
      "execution_count": null,
      "outputs": []
    },
    {
      "cell_type": "markdown",
      "source": [
        "# Assignment 1\n",
        "Welcome to the first NNFL assignment. Please read the instructions given below carefully before attempting the assignment.  \n",
        "- Do NOT import any other modules\n",
        "- Do NOT change the prototypes of any of the functions\n",
        "- Sample test cases are already given, test your code using these sample cases\n",
        "- Grading will be based on hidden test cases\n",
        "- Please solve this notebook using [Google Colab](https://colab.research.google.com/) as the required packages are already installed "
      ],
      "metadata": {
        "id": "xHk45moJ8NYy"
      }
    },
    {
      "cell_type": "code",
      "source": [
        "#DO NOT IMPORT ANY OTHER LIBRARY\n",
        "#Run these cells as it is\n",
        "import pandas as pd\n",
        "import numpy as np\n",
        "import sklearn\n",
        "import matplotlib.pyplot as plt\n",
        "import time\n",
        "import datetime\n",
        "import re\n",
        "from sklearn.metrics import mean_absolute_error,mean_squared_error\n",
        "from sklearn.preprocessing import MinMaxScaler\n",
        "import math\n",
        "from tqdm import tqdm\n",
        "from copy import deepcopy\n",
        "import seaborn as sns\n",
        "try:\n",
        "    import plotly.graph_objects as go\n",
        "except:\n",
        "    !pip install plotly # Or install the plotly library manually\n",
        "    import plotly.graph_objects as go    \n",
        "\n",
        "from matplotlib.pyplot import figure\n",
        "import time\n",
        "from tabulate import tabulate\n",
        "\n",
        "# required only for jupyter notebooks / while running on colab\n",
        "%matplotlib inline \n",
        "\n",
        "# set seed\n",
        "seed = 42\n",
        "np.random.seed(seed)"
      ],
      "metadata": {
        "id": "CwFoJjEklE4m"
      },
      "execution_count": null,
      "outputs": []
    },
    {
      "cell_type": "markdown",
      "source": [
        "# Part A - Data pre-processing + linear regression\n",
        "\n",
        "---\n",
        "\n",
        "\n",
        "\n",
        "---\n",
        "\n",
        "\n",
        "\n",
        "---\n",
        "\n",
        "\n",
        "This is the first section of the assignment. You will implement Linear Regression to create a model that predicts the magnitude of an earthquake given its properties.\n",
        "\n",
        " There is an explanation given before each code block as well as it has been mentioned what you would have to code. Read everything carefully.\n",
        "\n",
        "Introduction: Linear regression is a linear approach for modelling the relationship between a scalar response and one or more explanatory variables. The case of one explanatory variable is called simple linear regression; for more than one, the process is called multiple linear regression. It is used to predict the value of a variable based on the value of another variable(s). It uses the linear activation function. The diagram given below will give you a brief idea. We will explain more about linear regression as we proceed.\n",
        "<!-- ![Alt text](https://miro.medium.com/max/985/1*KP0U9y1o4QUaFMwUsXqXyw.png) -->\n",
        "\n",
        "![Alt text](https://qph.fs.quoracdn.net/main-qimg-791aad9d66fa3113e7036d8121e91213)"
      ],
      "metadata": {
        "id": "cqqZXIPE8UWv"
      }
    },
    {
      "cell_type": "markdown",
      "source": [
        "## Loading the Dataset"
      ],
      "metadata": {
        "id": "PSQEN-4QW6be"
      }
    },
    {
      "cell_type": "code",
      "source": [
        "train = pd.read_csv('train.csv')\n",
        "train_x = train[['Latitude', 'Longitude', 'Depth']]\n",
        "y_train = np.array(train['Magnitude']).astype(float)\n",
        "y_train = y_train.reshape(y_train.shape[0], 1)\n",
        "x_train = np.array(train_x).astype(float)\n",
        "x_train = x_train.reshape(x_train.shape[0], 3)\n",
        "x_train.shape"
      ],
      "metadata": {
        "id": "6NYGhRpZW_NA"
      },
      "execution_count": null,
      "outputs": []
    },
    {
      "cell_type": "code",
      "source": [
        "test = pd.read_csv('test.csv')\n",
        "test_x = test[['Latitude', 'Longitude', 'Depth']]\n",
        "y_test = np.array(test['Magnitude']).astype(float)\n",
        "y_test = y_test.reshape(y_test.shape[0], 1)\n",
        "x_test = np.array(test_x).astype(float)\n",
        "x_test = x_test.reshape(x_test.shape[0], 3)\n",
        "x_test.shape"
      ],
      "metadata": {
        "id": "71yVgVl2XLgM"
      },
      "execution_count": null,
      "outputs": []
    },
    {
      "cell_type": "markdown",
      "source": [
        "## Standardization [0.25 marks]\n",
        "\n",
        "Standardizing the data is a good practice. Standardization is a scaling technique where the values are centered around the mean with a unit standard deviation. This means that the mean of the attribute becomes zero and the resultant distribution has a unit standard deviation. Standardizing features helps us in training the model faster.\n",
        "\n",
        "The formula for standardizing the data is given below:\n",
        "\n",
        "# $X′= \\frac{X−μ}{σ}\\hspace{4cm}-(a)$ \n",
        "\n",
        "where\n",
        "\n",
        "μ : mean of the attribute\n",
        "\n",
        "σ : standard deviation of the attribute\n",
        "\n",
        "Numpy provides functions to implement the above\n",
        "\n",
        "For additional information refer [this](https://towardsai.net/p/data-science/how-when-and-why-should-you-normalize-standardize-rescale-your-data-3f083def38ff)."
      ],
      "metadata": {
        "id": "yQ0sJoIfBCA8"
      }
    },
    {
      "cell_type": "code",
      "source": [
        "#GRADED - 0.25 MARKS\n",
        "def standardize(X):\n",
        "    \"\"\"\n",
        "    Args:\n",
        "        'X': numpy ndarray \n",
        "    Returns:\n",
        "        'X_norm': normalized X also in numpy ndarray format\n",
        "    \"\"\"\n",
        "    \n",
        "    # YOUR CODE HERE\n",
        "    X_norm = (X - np.mean(X, axis=0))/np.std(X, axis=0)\n",
        "    return X_norm\n",
        "    raise NotImplementedError()"
      ],
      "metadata": {
        "id": "RNbq4tlhlIx9"
      },
      "execution_count": null,
      "outputs": []
    },
    {
      "cell_type": "code",
      "source": [
        "# Sample test cases\n",
        "np.random.seed(seed)\n",
        "x = np.random.randint(0, 100, size = (10,2))\n",
        "x = standardize(x)\n",
        "assert np.allclose(x[1,0], -1.0394283)\n",
        "print('Sample Test passed', '\\U0001F44D')"
      ],
      "metadata": {
        "id": "Eyn8iiGQ8E-_"
      },
      "execution_count": null,
      "outputs": []
    },
    {
      "cell_type": "code",
      "source": [
        "# hidden test cases. Do not modify"
      ],
      "metadata": {
        "id": "E6cJW547lOCS"
      },
      "execution_count": null,
      "outputs": []
    },
    {
      "cell_type": "markdown",
      "source": [
        "## Initialize parameters [0.25 marks]\n",
        "\n",
        "As uncomplicated it may seem, initializing your weights play an important role in overall performance of your model. If initial wts. are too small/large then it may lead to problem of vanishing/exploding gradients respectively.\n",
        "\n",
        "For introductory purpose, we will be taking weights from Gaussian Distribution. But there are has been tremendous research in this area, and Xavier Initialization has proved to be very effective for multiple tasks. There are in-built methods for Xavier initialization in frameworks like tensorflow, pytorch, caffe. To understand the maths behind Xavier Initialization, refer to the article attached below!\n",
        "\n",
        "Refer to this article to understand the importance of effective initialization. [deeplearning.ai/notes](https://www.deeplearning.ai/ai-notes/initialization/#IV)\n",
        "\n",
        "For our model we will be initialising Weights as an array or random integers and bias as array of zeroes. You can take help of formula $(i)$ from the next section's theory i.e. forward to know the relation between the dimensions of W and b with respect to X and Y. "
      ],
      "metadata": {
        "id": "Gy8ePkQFC3WP"
      }
    },
    {
      "cell_type": "markdown",
      "source": [
        "### \n",
        "Initialise weights with the shape given in function below having values **between 0 and 1** using numpy.random.rand function.\n",
        "\n",
        "(NOTE : USE **numpy.random.rand** function for this. Different functions can create different random values and this might result in your code not passing the test cases)\n",
        "\n",
        "> Initialise bias with the shape given below as a numpy array having all zeros."
      ],
      "metadata": {
        "id": "UlWV4dWIC-AY"
      }
    },
    {
      "cell_type": "code",
      "source": [
        "#GRADED - 0.25 MARKS\n",
        "def initialize_parameters(X, Y):\n",
        "    \"\"\"\n",
        "    Args:\n",
        "    'Y': ndarray of shape (m,output_size)\n",
        "    'X': ndarray of shape (m, no. of features)\n",
        "    Returns:\n",
        "    'W', 'b': Wts. and biases\n",
        "    'W' : ndarray of shape(no. of features, output_size)\n",
        "    'b' : ndarray of shape(1, output_size)\n",
        "    \n",
        "    USE output_size = 1 since we are only predicting whether a passenger survives or not. \n",
        "    \"\"\"\n",
        "    # YOUR CODE STARTS HERE\n",
        "    return W1, b1\n",
        "    raise NotImplementedError()"
      ],
      "metadata": {
        "id": "Dxc8cCwAlV8S"
      },
      "execution_count": null,
      "outputs": []
    },
    {
      "cell_type": "code",
      "source": [
        "# sample test case\n",
        "np.random.seed(seed)\n",
        "W_check, b_check = initialize_parameters(np.array([[1, 2], [3, 4]]), np.array([[0], [1]]))\n",
        "assert W_check.shape == (2,1)\n",
        "assert b_check.shape == (1,1)\n",
        "assert np.allclose(W_check[0],[0.3745401])\n",
        "print('Sample Test passed', '\\U0001F44D')"
      ],
      "metadata": {
        "id": "cydTiLYcmg5l"
      },
      "execution_count": null,
      "outputs": []
    },
    {
      "cell_type": "code",
      "source": [
        "# hidden test cases. Do not modify"
      ],
      "metadata": {
        "id": "g1YkLAgLDPWB"
      },
      "execution_count": null,
      "outputs": []
    },
    {
      "cell_type": "markdown",
      "source": [
        "## Forward [0.25 marks]\n",
        "\n",
        "This is the function where actual calculation of the prediction values happen with the help of weights and bias.\n",
        "\n",
        "For two varaibles it is a straight line of form $y = mx + c$ there m and c are slope and intercepts of line respectively but for more than one variables since each variable contributes to the output value the equation becomes a dot product of weights with the variables. Where each weight ($w_i$) represent the propotionality factor of prediction values with respect to the corresponding variable ($x_i$). $b$ is refered as bias which is analogus to the intercept value in case of two variables. \n",
        "\n",
        "# $ \\boxed{Y_{pred} = Activation function (w_1 x_1 + w_2 x_2 + .... + w_i x_i + b)}\\hspace{4cm} -(i)$\n",
        "\n",
        "The activation function we'll be using here will be a linear activation function. It gives a range of outputs which are proportional to the input.\n",
        "\n",
        "![Alt text](https://miro.medium.com/max/1400/1*tldIgyDQWqm-sMwP7m3Bww.png)\n",
        "\n",
        "# $ Y_{pred} = (X \\cdot W + b)$"
      ],
      "metadata": {
        "id": "BYhzF5FnDSX0"
      }
    },
    {
      "cell_type": "code",
      "source": [
        "#GRADED - 0.25 MARKS\n",
        "def forward(X, W, b):\n",
        "    \"\"\"\n",
        "    Args:\n",
        "    'X': ndarray of shape (m,no.of features)\n",
        "    'W': ndarray of shape (no. of features, output_size)\n",
        "    'b': ndarray of shape (1, output_size) \n",
        "    Returns:\n",
        "    calculated Y_pred value using X,W and b\n",
        "    \"\"\"\n",
        "    # YOUR CODE STARTS HERE\n",
        "    return Y_pred\n",
        "    raise NotImplementedError()"
      ],
      "metadata": {
        "id": "ZZOjWpPEO9fF"
      },
      "execution_count": null,
      "outputs": []
    },
    {
      "cell_type": "code",
      "source": [
        "#sample test case\n",
        "#DO NOT CHANGE THIS CODE\n",
        "np.random.seed(seed)\n",
        "X_test = np.random.randn(2,1)\n",
        "np.random.seed(seed+1)\n",
        "W_test = np.random.randn(1,2)\n",
        "np.random.seed(seed+2)\n",
        "b_test = np.random.randn(1,2)\n",
        "forward_test = forward(X_test, W_test, b_test)\n",
        "assert np.allclose(forward_test, [[-0.62276053,  0.86510174], [-0.78620394,  1.44196788]])\n",
        "print('Sample Test passed', '\\U0001F44D')"
      ],
      "metadata": {
        "id": "QJG82p7GPh_j"
      },
      "execution_count": null,
      "outputs": []
    },
    {
      "cell_type": "code",
      "source": [
        "# hidden test cases. Do not modify"
      ],
      "metadata": {
        "id": "M7B3dVmoPh8r"
      },
      "execution_count": null,
      "outputs": []
    },
    {
      "cell_type": "markdown",
      "source": [
        "## Loss [0.5 marks]\n",
        "\n",
        "A loss function is a measure of how good a prediction model does in terms of being able to predict the expected outcome. There is not a single loss function that works for all kind of data. It depends on a number of factors including the presence of outliers, choice of machine learning algorithm, time efficiency of gradient descent, ease of finding the derivatives and confidence of predictions.\n",
        "\n",
        "For our dataset, we have chosen Mean Squared Error Loss because of its ease of implementation and wide use in linear regression problems\n",
        "\n",
        "# $ MSE = \\frac{\\sum_{i = 1}^{m} (Y^{true}_i-Y^{pred}_i)^2}{m}*\\frac{1}{2}$\n",
        "\n",
        "here $Y^{pred}_i$ is the $i^{th}$ prediction value corresponding to $i^{th}$  $Y^{true}_i$ (actual)value. \n",
        "$m$ is the number of actual values \n"
      ],
      "metadata": {
        "id": "pnf9vkBgEznd"
      }
    },
    {
      "cell_type": "code",
      "source": [
        "#GRADED - 0.5 MARKS\n",
        "def loss(y_pred, y_true):\n",
        "  \"\"\"\n",
        "  Args:\n",
        "  'y_pred': ndarray of shape (m,1) storing output predictions\n",
        "  'y_true': ndarray of shape (m,1) storing ground truths\n",
        "    Returns:\n",
        "  'mse': mean squared error\n",
        "  \"\"\"\n",
        "\n",
        "  # YOUR CODE HERE\n",
        "\n",
        "  m = y_pred.shape[0]\n",
        "  \n",
        "  mse = np.sum(np.square(y_true - y_pred)) / (2 * m)\n",
        "\n",
        "  return mse\n",
        "  raise NotImplementedError()"
      ],
      "metadata": {
        "id": "DkYF922aPh5x"
      },
      "execution_count": null,
      "outputs": []
    },
    {
      "cell_type": "code",
      "source": [
        "#sample test case\n",
        "y1 = np.array([[0.15], [0.85]])\n",
        "y2 = np.array([[0], [1]])\n",
        "bce_sample = loss(y1, y2)\n",
        "assert np.allclose(bce_sample, 0.011250000000000001)\n",
        "print('Sample Test passed', '\\U0001F44D')"
      ],
      "metadata": {
        "id": "FjRvN1jJPzBC"
      },
      "execution_count": null,
      "outputs": []
    },
    {
      "cell_type": "code",
      "source": [
        "# hidden test cases. Do not modify"
      ],
      "metadata": {
        "id": "oqL2dLX1FyNL"
      },
      "execution_count": null,
      "outputs": []
    },
    {
      "cell_type": "markdown",
      "source": [
        "## Gradients [0.5 marks]\n",
        "\n",
        "In order to optimise our model and increase it's accuracy we will use a technique called **Stochastic Gradient Decent**(SGD). As per wikipedia Stochastic gradient descent is an iterative method for optimizing an objective function with suitable smoothness properties. From this we understand that we would be minimising the error between our prediction values and actual values. \n",
        "But before that we need to calculate our prediction values using the same formula as in the forward function. \n",
        "\n",
        "Now after getting certain value of loss in our first prediction we would change our weights and bias in a manner that our loss reduces.\n",
        "\n",
        "# $\\boxed{W_j = W_{j-1} - \\alpha * dW }     \\hspace{3cm}    -(i)$\n",
        "# $\\boxed{b_j = b_{j-1} - \\alpha * db }     \\hspace{3cm}    -(ii)$\n",
        "\n",
        "where $\\alpha$ is a constant called **learning rate** and dW is the partial derivative part given by the following formula\n",
        "\n",
        "# $ dW = \\frac{\\partial J(w,b)}{\\partial W} $\n",
        "Same goes for db\n",
        "\n",
        "# $ db = \\frac{\\partial J(w,b)}{\\partial b} $\n",
        "\n",
        "Where J is our MSE loss function:\n",
        "\n",
        "# $ \\frac{\\sum_{i = 1}^{m} (Y^{true}_i-Y^{pred}_i)^2}{m}*\\frac{1}{2}$\n",
        "\n",
        "By applying chain rule we can get vector forms of all dw's as dW and all db's as dB\n",
        "\n",
        "# $ dW =  \\frac{-X^T*(Y_t - Y_p)}{m}  $\n",
        "\n",
        "# $ db =  -\\sum\\frac{(Y_t - Y_p)}{m}  $\n",
        "\n",
        "$dW$ and $db$ are together refered as gradients "
      ],
      "metadata": {
        "id": "YSZw50LHF3GN"
      }
    },
    {
      "cell_type": "code",
      "source": [
        "#GRADED - 0.5 MARKS\n",
        "def grads(X, y_pred, y_true):\n",
        "    \"\"\"\n",
        "    Args:\n",
        "    'X': The input matrix \n",
        "    'y_pred': ndarray of shape (m,1) storing output predictions\n",
        "    'y_true': ndarray of shape (m,1) storing true values (survived or not)\n",
        "    Returns:\n",
        "    'dW': gradients of weights\n",
        "    'db': gradient of biases \n",
        "    \"\"\"\n",
        "    \n",
        "    # YOUR CODE STARTS HERE\n",
        "    return dw, db\n",
        "    raise NotImplementedError()"
      ],
      "metadata": {
        "id": "O-YEQ0raPy-Y"
      },
      "execution_count": null,
      "outputs": []
    },
    {
      "cell_type": "code",
      "source": [
        "#sample Test Case for function grads\n",
        "np.random.seed(seed)\n",
        "X_test = np.random.randn(3,2)\n",
        "np.random.seed(seed+1)\n",
        "y_pred_test = np.random.randn(3,1)\n",
        "np.random.seed(seed+2)\n",
        "y_true_test = np.random.randn(3,1)\n",
        "gradsop = grads(X_test,y_pred_test,y_true_test)\n",
        "assert np.allclose(gradsop[0],[[-0.18663058], [-1.04915976]])\n",
        "assert np.allclose(gradsop[1],-0.9471557498647226)\n",
        "print('Sample Test passed', '\\U0001F44D')"
      ],
      "metadata": {
        "id": "MMZQ5aaOPy7l"
      },
      "execution_count": null,
      "outputs": []
    },
    {
      "cell_type": "code",
      "source": [
        "# hidden test cases. Do not modify"
      ],
      "metadata": {
        "id": "uXNHEhjkPh3M"
      },
      "execution_count": null,
      "outputs": []
    },
    {
      "cell_type": "markdown",
      "source": [
        "## Stochastic Gradient Decent [0.25 marks]\n",
        "\n",
        "After calculating gradients of weights and bias, we will now do the changes in their respective values with the help of expressions $(ii)$ and $(iii)$ discussed above. \n",
        "Learning Rate ($\\alpha$) gives the measure of The amount that the weights are updated during training. Its value lies between 0.0 and 1.0. \n",
        "\n",
        "The weights are now updated via the learning rules:\n",
        "\n",
        "$$ W = W - \\alpha \\text{ } dW $$\n",
        "$$ b = b - \\alpha \\text{ } db $$\n",
        "\n",
        "![learning_rate.jpg](data:image/jpeg;base64,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)\n",
        "\n",
        "In the above two graphs we see the effect of high learning rates and effect of low learning rates. Each arrow depicts the change in the value at each subsequent step. A higher learning rate might saturate fast towards the local minimum where as the low learning rate takes much more iterations. But high learning rate might also start moving away from the local minimum hence increasing the loss. \n"
      ],
      "metadata": {
        "id": "4vSB_XNpG7fB"
      }
    },
    {
      "cell_type": "code",
      "source": [
        "#GRADED - 0.25 MARKS\n",
        "def sgd(W, b, grads, alpha):\n",
        "    \"\"\"\n",
        "    Args:\n",
        "    'W' : (n, output_size) array\n",
        "    'b' : (1,output_size)\n",
        "    'grads': list of dW, db\n",
        "    'alpha': learning rate\n",
        "    Return:\n",
        "    Updated parameters\n",
        "    updated_w : updated value of 'W' using the formula given above \n",
        "    updated_b : updated value of 'b' using the formula given above\n",
        "    \"\"\"\n",
        "    \n",
        "    # YOUR CODE STARTS HERE\n",
        "    return updated_w, updated_b\n",
        "    raise NotImplementedError()"
      ],
      "metadata": {
        "id": "xxQ1Kl5XR0g4"
      },
      "execution_count": null,
      "outputs": []
    },
    {
      "cell_type": "code",
      "source": [
        "#Sample test case for function sgd\n",
        "#DO NOT CHANGE THIS CODE\n",
        "np.random.seed(seed)\n",
        "w_test = np.random.randn(2,1)\n",
        "np.random.seed(seed+1)\n",
        "b_test = np.random.randn(1,1)\n",
        "sgdop = sgd(w_test,b_test,[w_test,b_test],0.01)\n",
        "assert np.allclose(sgdop[0],[[ 0.49174701], [-0.13688166]])\n",
        "assert np.allclose(sgdop[1],[[0.25482593]])\n",
        "print('Sample Test passed', '\\U0001F44D')"
      ],
      "metadata": {
        "id": "qRu9DGDqR0eY"
      },
      "execution_count": null,
      "outputs": []
    },
    {
      "cell_type": "code",
      "source": [
        "# hidden test cases. Do not modify"
      ],
      "metadata": {
        "id": "dKFtYhqmR0bc"
      },
      "execution_count": null,
      "outputs": []
    },
    {
      "cell_type": "markdown",
      "source": [
        "## Build Model [0.5 marks]\n",
        "\n",
        "Congratulations! Now we have all the helper functions required to build our model. In this final function, we will call above functions in a systematic way and let our model train on given dataset. Follow the instructions carefully."
      ],
      "metadata": {
        "id": "7F_PBxNgS8Ww"
      }
    },
    {
      "cell_type": "markdown",
      "source": [
        "### Steps to follow for building the model\n",
        "The following operations need to be performed in the function \"model\" below:\n",
        "<br/>\n",
        "<br/>\n",
        "1) Standardize X which is input to the model (Note that X is currently NOT standardized). DO NOT standardize Y, there is no need.\n",
        "\n",
        "2) Ensure shape of X is (m,no.of features) where m is the number of data points and no. of features is 6\n",
        "\n",
        "3) Initialise the parameters W and b using X (standardized) and Y with the help of the function *initialize_parameters*\n",
        "\n",
        "4) For N number of iterations :\n",
        "\n",
        "    - Calculate y_predicted by performing a forward pass(No need to standardize this y_predicted)\n",
        "    \n",
        "    - Find out the loss using y_predicted and y_true \n",
        "    \n",
        "    - Append the current loss to a list of all losses so that we can return it and plot it\n",
        "    \n",
        "    - Calculate the Gradients\n",
        "    \n",
        "    - Update W and b using SGD\n",
        "    \n",
        "    - Now use these updated W and b to perform a forward pass in the next iteration and again compute loss, gradients,sgd and so on\n",
        "    \n",
        "NOTE : Use all the functions you have declared uptill now in the model function"
      ],
      "metadata": {
        "id": "-t7hRwM4HgtX"
      }
    },
    {
      "cell_type": "code",
      "source": [
        "#GRADED - 0.5 MARKS\n",
        "def model(X , Y, iterations=5000, learning_rate=0.001):\n",
        "    \"\"\"\n",
        "    Args:\n",
        "    'X': ndarray of shape (m,no. of features) which is NOT Standardized\n",
        "    'Y': ndarray of shape (m,1)\n",
        "    'iterations': iterations for training our data\n",
        "    Returns:\n",
        "    y_pred: predicted value of output\n",
        "    y_true: true value of output (no need to standardize)\n",
        "    losses: for grading purpose\n",
        "    W , b : The final TRAINED weights and biases of the model\n",
        "    Return in the following order : [y_pred , y_true, losses , W , b]\n",
        "    \"\"\"\n",
        "    \n",
        "    # YOUR CODE STARTS HERE\n",
        "\n",
        "    # plot loss curve \n",
        "    plt.plot(losses) \n",
        "    plt.title('Training Loss')\n",
        "    plt.ylabel('Loss')\n",
        "    plt.xlabel('Iterations')\n",
        "    plt.show()\n",
        "\n",
        "    return y_pred , Y, losses, W , b \n",
        "    \n",
        "    raise NotImplementedError()"
      ],
      "metadata": {
        "id": "vrtQNJGMR0Tc"
      },
      "execution_count": null,
      "outputs": []
    },
    {
      "cell_type": "code",
      "source": [
        "#RUN THIS CELL AS IT IS\n",
        "np.random.seed(seed)\n",
        "y_pred , y_true, sgd_losses, trained_w , trained_b = model(x_train, y_train)"
      ],
      "metadata": {
        "id": "gmMSQ2EAR0Kl"
      },
      "execution_count": null,
      "outputs": []
    },
    {
      "cell_type": "code",
      "source": [
        "#Sample test case\n",
        "assert np.allclose(sgd_losses[2000], 0.3595281475670042)\n",
        "print('Sample Test passed', '\\U0001F44D')"
      ],
      "metadata": {
        "id": "-xsqFE3MVXVH"
      },
      "execution_count": null,
      "outputs": []
    },
    {
      "cell_type": "code",
      "source": [
        "def predict(x_test, trained_w, trained_b):\n",
        "  x_test = standardize(x_test)\n",
        "  return forward(x_test, trained_w, trained_b)\n",
        "\n",
        "y_test_pred = predict(x_test, trained_w, trained_b)"
      ],
      "metadata": {
        "id": "w6HTNDjYTFKk"
      },
      "execution_count": null,
      "outputs": []
    },
    {
      "cell_type": "code",
      "source": [
        "print(\"Final MSE loss in testing dataset: \", loss(y_test_pred, y_test))"
      ],
      "metadata": {
        "id": "qyMu46_WTFII"
      },
      "execution_count": null,
      "outputs": []
    },
    {
      "cell_type": "markdown",
      "metadata": {
        "deletable": false,
        "editable": false,
        "id": "zbFXXO9tkJ7C",
        "nbgrader": {
          "cell_type": "markdown",
          "checksum": "938673801d4021336d198319c596b22d",
          "grade": false,
          "grade_id": "cell-8f86622c2932ea84",
          "locked": true,
          "schema_version": 3,
          "solution": false,
          "task": false
        }
      },
      "source": [
        "# Part B - Logistic regression\n",
        "\n",
        "---\n",
        "\n",
        "\n",
        "\n",
        "---\n",
        "\n",
        "\n",
        "\n",
        "---\n",
        "\n",
        "\n",
        "Introduction: Logistic regression is a classification algorithm. It is used to predict a binary outcome based on a set of independent variables. It uses the sigmoid activation function. The diagram given below will give you a brief idea. We will explain more about logistic regression as we proceed.\n",
        "![image.png](data:image/png;base64,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)"
      ]
    },
    {
      "cell_type": "markdown",
      "source": [
        "## Loading the Dataset\n",
        "The only difference here (compared to the linear regression model) is that we are predicting the \"Magnitude Type\" instead of the actual \"Magnitude\"."
      ],
      "metadata": {
        "id": "WL8FG9ZLY3f4"
      }
    },
    {
      "cell_type": "code",
      "source": [
        "train = pd.read_csv('train.csv')\n",
        "train_x = train[['Latitude', 'Longitude', 'Depth']]\n",
        "y_train = np.array(train['Magnitude Type']).astype(float)\n",
        "y_train = y_train.reshape(y_train.shape[0], 1)\n",
        "x_train = np.array(train_x).astype(float)\n",
        "x_train = x_train.reshape(x_train.shape[0], 3)\n",
        "x_train = standardize(x_train)\n",
        "x_train.shape"
      ],
      "metadata": {
        "id": "DdbsNZ6xSGVR"
      },
      "execution_count": null,
      "outputs": []
    },
    {
      "cell_type": "code",
      "source": [
        "test = pd.read_csv('test.csv')\n",
        "test_x = test[['Latitude', 'Longitude', 'Depth']]\n",
        "y_test = np.array(test['Magnitude Type']).astype(float)\n",
        "y_test = y_test.reshape(y_test.shape[0], 1)\n",
        "x_test = np.array(test_x).astype(float)\n",
        "x_test = x_test.reshape(x_test.shape[0], 3)\n",
        "x_test = standardize(x_test)\n",
        "x_test.shape"
      ],
      "metadata": {
        "id": "-tKuAkeVSJec"
      },
      "execution_count": null,
      "outputs": []
    },
    {
      "cell_type": "markdown",
      "metadata": {
        "deletable": false,
        "editable": false,
        "id": "IGqH1yWb2aUk",
        "nbgrader": {
          "cell_type": "markdown",
          "checksum": "26011cc216e9b54a8038305b4323d99d",
          "grade": false,
          "grade_id": "cell-f9dc5e044baa8023",
          "locked": true,
          "schema_version": 3,
          "solution": false,
          "task": false
        }
      },
      "source": [
        "## Binary Cross-Entropy Loss [0.5 marks]\n",
        "\n",
        "A loss function is a measure of how good a prediction model does in terms of being able to predict the expected outcome. There is not a single loss function that works for all kind of data. It depends on a number of factors including the presence of outliers, choice of machine learning algorithm, time efficiency of gradient descent, ease of finding the derivatives and confidence of predictions.\n",
        "\n",
        "For our dataset, we have chosen Binary Cross Entropy Loss because of its ease of implementation and wide use in logistic regression problems\n",
        "\n",
        "# $ BCE = \\frac{-\\sum_{i = 1}^{m} (Y^{true}_ilog({Y^{pred}_i} + eps) + (1-Y^{true}_i)log(1-{Y^{pred}_i + eps}))}{m}$\n",
        "\n",
        "here $Y^{pred}_i$ is the $i^{th}$ prediction value corresponding to $i^{th}$  $Y^{true}_i$ (actual)value. \n",
        "$m$ is the number of actual values "
      ]
    },
    {
      "cell_type": "code",
      "source": [
        "# GRADED - 0.5 Marks\n",
        "def loss_compute(y_pred, yd, eps=1e-8):\n",
        "    '''\n",
        "    Inputs: \n",
        "    - y_pred: numpy array containing predicted values of target\n",
        "    - yd: numpy array containing desired values of y given in the \n",
        "    dataset\n",
        "\n",
        "    Outputs:\n",
        "    - loss: Calculate and return the loss using the above formula\n",
        "    '''\n",
        "    \n",
        "    # YOUR CODE STARTS HERE\n",
        "    return loss\n",
        "    raise NotImplementedError()\n"
      ],
      "metadata": {
        "id": "MpFHDbdzvICK"
      },
      "execution_count": null,
      "outputs": []
    },
    {
      "cell_type": "code",
      "source": [
        "#Sample test case\n",
        "a1 = np.array([[1],[1],[1],[1],[1]])\n",
        "a0 = np.array([[0],[0],[0],[0],[0]])\n",
        "assert np.allclose(loss_compute(a1,a0), 18.420680743952367)\n",
        "print('Sample Test passed', '\\U0001F44D')"
      ],
      "metadata": {
        "id": "Rr3A5W1FFxYk"
      },
      "execution_count": null,
      "outputs": []
    },
    {
      "cell_type": "markdown",
      "metadata": {
        "deletable": false,
        "editable": false,
        "id": "bbEr_AMXLr_Y",
        "nbgrader": {
          "cell_type": "markdown",
          "checksum": "608974487439aaf1a6e3cb8edbbff565",
          "grade": false,
          "grade_id": "cell-2dffed1f2c7f5a5c",
          "locked": true,
          "schema_version": 3,
          "solution": false,
          "task": false
        }
      },
      "source": [
        "## Weight Initialization [0.5 marks]\n",
        "\n",
        "As uncomplicated it may seem, initializing your weights play an important role in overall performance of your model. If initial wts. are too small/large then it may lead to problem of vanishing/emploding gradients respectively.\n",
        "\n",
        "For introductory purpose, we will be taking weights from Gaussian Distribution. But there are has been tremendous research in this area, and Xavier Initialization has proved to be very effective for multiple tasks. There are in-built methods for Xavier initialization in frameworks like tensorflow, pytorch, caffe. To understand the maths behind Xavier Initialization, refer to the article attached below!\n",
        "\n",
        "Refer to this article to understand the importance of effective initialization. [deeplearning.ai/notes](https://www.deeplearning.ai/ai-notes/initialization/#IV)\n",
        "\n",
        "For our model we will be initialising Weights as an array or random integers and bias as array of zeroes. You can take help of formula $(i)$ from the next section's theory i.e. forward to know the relation between the dimensions of W and b with respect to X and Y. "
      ]
    },
    {
      "cell_type": "markdown",
      "metadata": {
        "deletable": false,
        "editable": false,
        "id": "8IVhOFjzcWGB",
        "nbgrader": {
          "cell_type": "markdown",
          "checksum": "bd6f8a1be72556ec7acd74ee11ae4e7d",
          "grade": false,
          "grade_id": "cell-fc48857d21c42c22",
          "locked": true,
          "schema_version": 3,
          "solution": false,
          "task": false
        }
      },
      "source": [
        "### \n",
        "Initialise weights with the shape given in function below having values **between 0 and 1** using numpy.random.rand function.\n",
        "\n",
        "(NOTE : USE **numpy.random.rand** function for this. Different functions can create different random values and this might result in your code not passing the test cases)\n",
        "\n",
        "> Initialise bias with the shape given below as a numpy array having all zeros."
      ]
    },
    {
      "cell_type": "code",
      "execution_count": null,
      "metadata": {
        "id": "5Cc9sAGeugUH"
      },
      "outputs": [],
      "source": [
        "#GRADED - 0.5 MARKS\n",
        "def initialization(I, H1, H2, H3, O):\n",
        "    '''\n",
        "    Weights are initialized to random values in the range [0, 0.1) using np.random.rand appropriately and\n",
        "    biases are initialized to zero. The dimensions of the\n",
        "    parameters as as follows:- \n",
        "\n",
        "          W1: First layer weights; has shape (H1, I)\n",
        "          b1: First layer biases; has shape (H1, 1)\n",
        "          m_dW1: Momentum of First layer weights; has shape (H1, I)\n",
        "          m_db1: Momentum of First layer biases; has shape (H1, 1)\n",
        "          v_dW1: RMS of First layer weights; has shape (H1, I)\n",
        "          v_db1: RMS of First layer weights; has shape (H1, 1)\n",
        "          W2: Second layer weights; has shape (H2, H1)\n",
        "          b2: Second layer biases; has shape (H2, 1)\n",
        "          m_dW2: Momentum of Second layer weights; has shape (H2, H1)\n",
        "          m_db2: Momentum of Second layer biases; has shape (H2, 1)\n",
        "          v_dW2: RMS of Second layer weights; has shape (H2, H1)\n",
        "          v_db2: RMS of Second layer weights; has shape (H2, 1)\n",
        "          W3: Third layer weights; has shape (H3, H2)\n",
        "          b3: Third layer biases; has shape (H3, 1)\n",
        "          m_dW3: Momentum of Third layer weights; has shape (H3, H2)\n",
        "          m_db3: Momentum of Third layer biases; has shape (H3, 1)\n",
        "          v_dW3: RMS of Third layer weights; has shape (H3, H2)\n",
        "          v_db3: RMS of Third layer weights; has shape (H3, 1)\n",
        "          W4: Fourth layer weights has shape (O,H3)\n",
        "          b4: Fourth layer biases; has shape (O,1)\n",
        "          m_dW2: Momentum of Fourth layer weights; has shape (O, H3)\n",
        "          m_db2: Momentum of Fourth layer biases; has shape (O, 1)\n",
        "          v_dW2: RMS of Fourth layer weights; has shape (O, H3)\n",
        "          v_db2: RMS of Fourth layer weights; has shape (O, 1)\n",
        "\n",
        "          Inputs:\n",
        "          - I: The number of features of the input data.\n",
        "          - H1: The number of neurons in the hidden layer - 1.\n",
        "          - H2: The number of neurons in the hidden layer - 2.\n",
        "          - H3: The number of neurons in the hidden layer - 3.\n",
        "          - O: The number of outputs(i.e. 1).\n",
        "\n",
        "          Outputs:\n",
        "          - paramters_final: List containing of parameters \n",
        "          after they are initialized with appropriate values in this order:\n",
        "          [W1, b1, m_dw1, m_db1, v_dw1, v_db1, W2, b2, m_dw2, m_db2, v_dw2, v_db2, W3, b3, m_dw3, m_db3, v_dw3, v_db3, W4, b4, m_dw4, m_db4, v_dw4, v_db4]\n",
        "        '''\n",
        "    \n",
        "    # YOUR CODE STARTS HERE\n",
        "    return [W1, b1, m_dw1, m_db1, v_dw1, v_db1, W2, b2, m_dw2, m_db2, v_dw2, v_db2, W3, b3, m_dw3, m_db3, v_dw3, v_db3, W4, b4, m_dw4, m_db4, v_dw4, v_db4]\n",
        "    raise NotImplementedError()"
      ]
    },
    {
      "cell_type": "code",
      "source": [
        "#Sample test case\n",
        "np.random.seed(seed)\n",
        "parameters = initialization(3, 8, 16, 8, 1)\n",
        "assert parameters[0].shape == (8,3)\n",
        "assert parameters[13].shape == (8,1)\n",
        "print('Sample Test passed', '\\U0001F44D')"
      ],
      "metadata": {
        "id": "OB-MjrnjbGR3"
      },
      "execution_count": null,
      "outputs": []
    },
    {
      "cell_type": "markdown",
      "metadata": {
        "deletable": false,
        "editable": false,
        "id": "pfdPILNnLYMJ",
        "nbgrader": {
          "cell_type": "markdown",
          "checksum": "54f47a7f6f9c2ec7c6ea7525f2f60aac",
          "grade": false,
          "grade_id": "cell-f4dfff5791574684",
          "locked": true,
          "schema_version": 3,
          "solution": false,
          "task": false
        }
      },
      "source": [
        "## Sigmoid Activation Function [0.25 marks]\n",
        "\n",
        "\n",
        "# $ \\boxed{Y_{pred} = Activation function (w_1 x_1 + w_2 x_2 + .... + w_i x_i + b)}\\hspace{4cm} -(i)$\n",
        "\n",
        "The activation function we'll be using here will be sigmoid. This ensures differentiability and gives output in the range of [0,1], which we want\n",
        "\n",
        "![1_Xu7B5y9gp0iL5ooBj7LtWw.png](data:image/png;base64,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)\n",
        "\n",
        "# $ Y_{pred} = sigmoid (X \\cdot W + b)$"
      ]
    },
    {
      "cell_type": "code",
      "source": [
        "#GRADED - 0.25 MARKS\n",
        "def sigmoid(Z):\n",
        "    \"\"\"\n",
        "    Args:\n",
        "    'Z': ndarray of shape (m,output_size)\n",
        "    Returns:\n",
        "    calculated sigmoid of Z\n",
        "    \"\"\"\n",
        "    # YOUR CODE STARTS HERE\n",
        "    return sig\n",
        "    raise NotImplementedError()"
      ],
      "metadata": {
        "id": "1-uxNWTfu8fU"
      },
      "execution_count": null,
      "outputs": []
    },
    {
      "cell_type": "code",
      "source": [
        "#Sample test case\n",
        "assert np.allclose(sigmoid(np.linspace(-10, 5, 10))[3], 6.69285092e-03)\n",
        "print('Sample Test passed', '\\U0001F44D')"
      ],
      "metadata": {
        "id": "ENrhlNfuarEO"
      },
      "execution_count": null,
      "outputs": []
    },
    {
      "cell_type": "markdown",
      "source": [
        "## Swish Activation Function [0.25 marks]\n",
        "\n",
        "The most commonly used activation function was ReLU which is f(x) = max(0,x). The consistent problem with ReLU was that the derivative of x is zero for half of the values of x in the ramp function, i.e. f(x) = max(0,x). The introduction of Swish gave a smooth, non-monotonic function that consistently matches or outperforms ReLU on deep neural networks in a variety of domains. Unlike ReLU, it does not have the problem of dying neurons.\n",
        "\n",
        "\n",
        "![Alt text](https://miro.medium.com/max/1248/1*rBfSD7_bNCmmhGnyksNEPg.png)\n",
        "\n",
        ">   # $ Y_{pred} = x*sigmoid (X \\cdot W + b) = \\frac{x}{(1 + e^{-x})}$\n",
        "\n",
        "\n",
        "\n",
        "\n",
        "\n"
      ],
      "metadata": {
        "id": "apMDsekNeTZg"
      }
    },
    {
      "cell_type": "code",
      "source": [
        "#GRADED - 0.25 MARKS\n",
        "def swish(Z):\n",
        "    \"\"\"\n",
        "    Args:\n",
        "    'Z': ndarray of shape (m,output_size)\n",
        "    Returns:\n",
        "    calculated swish of Z\n",
        "    \"\"\"\n",
        "    # YOUR CODE STARTS HERE\n",
        "    return out\n",
        "    raise NotImplementedError()"
      ],
      "metadata": {
        "id": "HjqGOHokwhA5"
      },
      "execution_count": null,
      "outputs": []
    },
    {
      "cell_type": "code",
      "source": [
        "#Sample test case\n",
        "assert np.allclose(swish(np.linspace(-10, 5, 10))[1], -2.00259761e-03)\n",
        "print('Sample Test passed', '\\U0001F44D')"
      ],
      "metadata": {
        "id": "6okdXbrkctGN"
      },
      "execution_count": null,
      "outputs": []
    },
    {
      "cell_type": "markdown",
      "source": [
        "## L2 Regularization [0.25 marks]\n"
      ],
      "metadata": {
        "id": "h_eP-3KtbfCx"
      }
    },
    {
      "cell_type": "markdown",
      "metadata": {
        "deletable": false,
        "editable": false,
        "id": "hy6cNMNXdpCP",
        "nbgrader": {
          "cell_type": "markdown",
          "checksum": "37fe4cb3bc06b6ac5b190d342ea461b3",
          "grade": false,
          "grade_id": "cell-3c4e90c6e54c0ea6",
          "locked": true,
          "schema_version": 3,
          "solution": false,
          "task": false
        }
      },
      "source": [
        "\n",
        "**Regularization**:\n",
        "It is a technique that discourages learning a more complex or flexible model, so as to avoid the risk of overfitting. It improves the generalization capability of a model, i.e. its performance on unseen test examples.\n",
        "\n",
        "![1_M0MYxhh2M6-J2_5dd6ZH6w.png](data:image/png;base64,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)\n",
        "\n",
        "where (k, j) refer to the shape of W and l refers to the layer number"
      ]
    },
    {
      "cell_type": "code",
      "source": [
        "# GRADED - 0.25 Marks\n",
        "def regularization_L2(lmbda, W1, W2, W3, W4, m):\n",
        "    '''\n",
        "    Inputs:\n",
        "    - lmbda: Regularization parameter\n",
        "    - W1, W2, W3, W4: numpy arrays containing weights of the model\n",
        "    - m: no of examples\n",
        "\n",
        "    Outputs:\n",
        "    - total_reg_loss: sum of L2 regularization loss of each layer\n",
        "    '''\n",
        "    # YOUR CODE STARTS HERE\n",
        "\n",
        "    return reg_cost\n",
        "    # YOUR CODE HERE\n",
        "    raise NotImplementedError()"
      ],
      "metadata": {
        "id": "LY6XfBnKwyLq"
      },
      "execution_count": null,
      "outputs": []
    },
    {
      "cell_type": "code",
      "source": [
        "#Sample test case\n",
        "np.random.seed(seed)\n",
        "parameters = initialization(3, 8, 16, 8, 1)\n",
        "W1 = parameters[0]\n",
        "W2 = parameters[6]\n",
        "W3 = parameters[12]\n",
        "W4 = parameters[18]\n",
        "assert np.allclose(regularization_L2(1,W1,W2,W3,W4,1),0.48454498104111476)\n",
        "print('Sample Test passed', '\\U0001F44D')"
      ],
      "metadata": {
        "id": "GP0faaSndOYk"
      },
      "execution_count": null,
      "outputs": []
    },
    {
      "cell_type": "markdown",
      "source": [
        "## Forward Pass [0.5 marks]\n"
      ],
      "metadata": {
        "id": "366jSqe_brIt"
      }
    },
    {
      "cell_type": "markdown",
      "metadata": {
        "deletable": false,
        "editable": false,
        "id": "lptBunoYc50Q",
        "nbgrader": {
          "cell_type": "markdown",
          "checksum": "b6a4fbb60beb88d47fca39dad564ef54",
          "grade": false,
          "grade_id": "cell-b26c078ba5fbf1f9",
          "locked": true,
          "schema_version": 3,
          "solution": false,
          "task": false
        }
      },
      "source": [
        "\n",
        "\n",
        "### Terminologies used for describing the computations of the Neural Network:\n",
        "* Superscript $[h]$ denotes a quantity associated with the $h^{th}$ layer. \n",
        "    - Example: $a^{[h]}$ is the $h^{th}$ layer activation. $W^{[h]}$ and $b^{[h]}$ are the $h^{th}$ layer parameters.\n",
        "* Superscript $(i)$ denotes a quantity associated with the $i^{th}$ example. \n",
        "    - Example: $y^{(i)}$ is the ground truth label corresponding to the $i^{th}$ training example.\n",
        "\n",
        "\n",
        "\n",
        "* A layer of the neural network consists of:\n",
        "    - a weight matrix $W^{[h]}$of shape (size of current layer, size of previous layer)\n",
        "    - a bias vector $b^{[h]} $of shape (size of current layer, 1)\n",
        "    - an activation function $ g^{[h]} $\n",
        "\n",
        "\n"
      ]
    },
    {
      "cell_type": "code",
      "source": [
        "#GRADED - 0.5 MARKS\n",
        "def feed_forward(X, params):\n",
        "    '''\n",
        "    Using the formulae given below, apply forward propagation for each layer according to the defined architecture\n",
        "\n",
        "    z = X(W.T) + b {W.T is the transpose of weight matrix}\n",
        "    a = g(z)  {g being the non linear function i.e the activation function}\n",
        "\n",
        "    Inputs:\n",
        "    - X : Input data of shape (6, total_number_of_rows). Each X[i] is a feature and each X[:][i] is a training sample\n",
        "    - params: List containing the parameters (weights and bias of each layer in the order: w1,b1,w2,b2,w3,b3,w4,b4) of the model\n",
        "\n",
        "    Outputs:\n",
        "    - y_out (or a4) : predicted price\n",
        "    - l : List containing the activation and linear outputs of each layer in the following fashion\n",
        "      [z1,a1,z2,a2,z3,a3,z4,a4]\n",
        "    '''\n",
        "    \n",
        "    # YOUR CODE STARTS HERE\n",
        "    \n",
        "    return a4, [z1, a1, z2, a2, z3, a3, z4, a4]\n",
        "    raise NotImplementedError()"
      ],
      "metadata": {
        "id": "6kCokZOWw6ZP"
      },
      "execution_count": null,
      "outputs": []
    },
    {
      "cell_type": "code",
      "source": [
        "#Sample test case\n",
        "np.random.seed(seed)\n",
        "params = initialization(3, 3, 2, 2, 1)\n",
        "y_forward,l = feed_forward(np.random.rand(10,3), params)\n",
        "assert y_forward.shape == (10,1)\n",
        "print('Sample Test passed', '\\U0001F44D')"
      ],
      "metadata": {
        "id": "r98xUhFHyERw"
      },
      "execution_count": null,
      "outputs": []
    },
    {
      "cell_type": "markdown",
      "source": [
        "## Backward pass\n",
        "Now that we are done with implementing the forward pass, we'll move on to individual modules required for the backward pass."
      ],
      "metadata": {
        "id": "IktBDPb9bzY2"
      }
    },
    {
      "cell_type": "markdown",
      "source": [
        "### Derivatives of Swish and Sigmoid [0.25 marks]\n"
      ],
      "metadata": {
        "id": "5-OECfxPcK1C"
      }
    },
    {
      "cell_type": "markdown",
      "source": [
        "Our next step will be to create some helper functions before starting backpropagation\n",
        "\n",
        "We would need derivatives of **Swish** function and **Sigmoid** function \n",
        "\n",
        "Hint: ReLU function derivative can be calculated in one step using lambda functions. For more information, refer to this link: https://www.w3schools.com/python/python_lambda.asp \n",
        "\n",
        "\n",
        "Note the following rules for different activation functions:\n",
        "$$ \\frac{\\partial \\mathcal{(swish(z))} }{\\partial z} =   sigmoid(z) + swish(z)*(1-sigmoid(z))  $$ \\\\\n",
        "\n",
        "$$ \\frac{\\partial \\mathcal{(sigmoid(z))} }{\\partial z} = sigmoid(z) * (1-sigmoid(z))$$\n"
      ],
      "metadata": {
        "id": "ctE_HGOJMi80"
      }
    },
    {
      "cell_type": "code",
      "source": [
        "# GRADED - 0.25 Marks\n",
        "\n",
        "# Define two functions dswish and dSigmoid which return the respective derivatives\n",
        "# input can be of any 1D, 2D shape\n",
        "\n",
        "def dswish(z):\n",
        "    \n",
        "    # YOUR CODE STARTS HERE\n",
        "    return dS\n",
        "    raise NotImplementedError()\n",
        "\n",
        "def dSigmoid(z):\n",
        "    \n",
        "    # YOUR CODE STARTS HERE\n",
        "    return ds\n",
        "    raise NotImplementedError()"
      ],
      "metadata": {
        "id": "fV9MkJUWzmoA"
      },
      "execution_count": null,
      "outputs": []
    },
    {
      "cell_type": "code",
      "source": [
        "#Sample test case\n",
        "a0 = np.linspace(-10, 5, 10)\n",
        "assert np.allclose(dswish(a0)[0],-4.08560209e-04)\n",
        "assert np.allclose(dSigmoid(a0)[0],4.53958077e-05)\n",
        "print('Sample Test passed', '\\U0001F44D')"
      ],
      "metadata": {
        "id": "FixAp_16fDDP"
      },
      "execution_count": null,
      "outputs": []
    },
    {
      "cell_type": "markdown",
      "source": [
        "### Derivatives of activation function variable [0.25 marks]\n",
        "\n",
        "Given the weights of a layer and the derivative of the linear function involved in the same layer, we calculate the derivative of the activation function variable for the next step of backpropagation.\n",
        "\n",
        "$$ = dz * W $$"
      ],
      "metadata": {
        "id": "T2Crjq-mcdVU"
      }
    },
    {
      "cell_type": "code",
      "source": [
        "# GRADED - 0.25 Marks\n",
        "\n",
        "def back_prop_actf(W_plusone, dz_plusone):\n",
        "    '''\n",
        "    Inputs:\n",
        "    - W_plusone: Weights of the next layer\n",
        "    - dz_plusone: Derivative of the linear function of the next\n",
        "    layer\n",
        "\n",
        "    Outputs:\n",
        "    - act_dtive: returns the derivative of activation function variable\n",
        "    '''\n",
        "   # YOUR CODE STARTS HERE\n",
        "    return act_dtive\n",
        "\n",
        "    raise NotImplementedError()"
      ],
      "metadata": {
        "id": "dWq5Q8Jr1SMp"
      },
      "execution_count": null,
      "outputs": []
    },
    {
      "cell_type": "code",
      "source": [
        "#Sample test case\n",
        "np.random.seed(seed)\n",
        "params = initialization(3, 3, 2, 2, 1)\n",
        "W2 = params[6]\n",
        "dz2 = np.random.rand(10,2)\n",
        "assert back_prop_actf(W2,dz2).shape == (10,3)\n",
        "print('Sample Test passed', '\\U0001F44D')"
      ],
      "metadata": {
        "id": "Ds_VRJr1fmvT"
      },
      "execution_count": null,
      "outputs": []
    },
    {
      "cell_type": "markdown",
      "source": [
        "### Derivatives of a linear layer [0.25 marks]\n",
        "\n",
        "This is another helper function required to calculate the derivatives of linear layers and output the gradients of the linear function variable and change in the weights & bias for the same layer.\n",
        "\n",
        "Depending on whether the activation function is **Swish** or **Sigmoid**, we calculate their derivatives using the helper function above.\n",
        "\n",
        "That is, if **Swish**, then:\n",
        "\n",
        "## $ dz =  sigmoid(z) + swish(z)*(1-sigmoid(z))  $\n",
        "\n",
        "and if **Sigmoid**, then:\n",
        "\n",
        "## $ dz = sigmoid(z) * (1-sigmoid(z)) $\n",
        "\n",
        "By applying chain rule we can get vector forms of all dw's as dW and all db's as dB\n",
        "\n",
        "## $ dW =  \\frac{dz^T*X}{m} + \\frac{λ * W}{m}  $\n",
        "\n",
        "## $ db =  \\sum\\frac{dz}{m}  $"
      ],
      "metadata": {
        "id": "w7O0ew_rcY8V"
      }
    },
    {
      "cell_type": "code",
      "source": [
        "# GRADED - 0.25 Marks\n",
        "\n",
        "def back_prop_linear(da_layer, z_layer, input, act_fxn, m, lmbda, weight):\n",
        "    '''\n",
        "    Inputs:\n",
        "    - da_layer: derivative of variable 'a' of that layer\n",
        "    - z_layer: numpy array of 'z' values\n",
        "    \n",
        "    - input: input value of that layer, for example, X is the\n",
        "    input for the first layer, and for other layers, it is the activation A of the previous layer\n",
        "    \n",
        "    - act_fxn: string containing the name of the activation \n",
        "    function used in that layer,i.e. 'sigmoid' or 'swish' (depending on this, the appropriate function is called)\n",
        "    \n",
        "    - m: number of datapoints\n",
        "    - lmbda: regularization parameter\n",
        "    - weight: weights of that particular layer\n",
        "  \n",
        "      Outputs:\n",
        "    - dz: returns the derivative of linear function variable\n",
        "    - dW: returns the change in weights for that layer\n",
        "    - db: returns the change in bias for that layer\n",
        "    '''\n",
        "\n",
        "    # YOUR CODE STARTS HERE\n",
        "    return dz,dW,db\n",
        "    raise NotImplementedError()"
      ],
      "metadata": {
        "id": "UlYCcCFY0z8I"
      },
      "execution_count": null,
      "outputs": []
    },
    {
      "cell_type": "code",
      "source": [
        "#Sample test case\n",
        "np.random.seed(seed)\n",
        "W = np.random.rand(2,3)\n",
        "a = np.random.rand(10,3)\n",
        "z = np.random.rand(10,2)\n",
        "da = np.random.rand(10,2)\n",
        "act_fxn = 'swish'\n",
        "m = 1\n",
        "lmbda = 0.005\n",
        "dz,dW,db = back_prop_linear(da,z,a,act_fxn,lmbda,m,W)\n",
        "assert dW.shape == W.shape\n",
        "assert dz.shape == z.shape\n",
        "print('Sample Test passed', '\\U0001F44D')"
      ],
      "metadata": {
        "id": "9JOvz-XkjHn7"
      },
      "execution_count": null,
      "outputs": []
    },
    {
      "cell_type": "markdown",
      "source": [
        "### Cumulative Backpropagation [0.5 marks]\n",
        "\n",
        "Now we will be creating the main function for backpropagation where we combine all the helper functions to update the weights. We will first compute errors at the last layer and backpropagate them through the network to get the desired $dW$ and $db$ for each layer.\n",
        "\n",
        "We would using a single function to return these values as the formula remains the same.\n",
        "\n",
        "To backpropagate through this network, we know that the output is, $ ypred = A^{[H]} = sigmoid(Z^{[H]})$. Your code thus needs to compute $ dA^{[H]} = \\frac{\\partial \\mathcal{L}}{\\partial A^{[H]}}$. To do so, use this formula: \\\\\n",
        "$$ dA^{[H]} = -(Y / A^{[H]} - (1-Y)/(1-A^{[H]}))$$\n",
        "where $ \"/\" \\ denotes \\ elementwise \\ division$\n",
        "\n",
        "Remember: This is only for the last layer, use the above helper function for the other layers.\n",
        "\n",
        "**HINT:** Use the back_prop_linear function to obtain $dz,dW,db$ at each layer.\n",
        "\n",
        "Use the swish activation function to pass as parameter to back_prop_linear at each step for the other layers."
      ],
      "metadata": {
        "id": "N6pYjJ9uc55b"
      }
    },
    {
      "cell_type": "code",
      "source": [
        "# GRADED - 0.5 Marks\n",
        "\n",
        "def backpropagation(X, yd, l, y_pred, parameters, lmbda):\n",
        "    '''\n",
        "      Inputs:\n",
        "      - X: Input features - shape (no of features, no of examples)\n",
        "      - yd: y desired values(labels given in dataset)\n",
        "      - l: list containing values of 'z' and 'a' of each layer\n",
        "      - parameters: list containing weights and biases of each layer\n",
        "      - lmbda: regularization parameter\n",
        "\n",
        "      Outputs:\n",
        "      - grad: dictionary containing the change in the values of weights\n",
        "      and biases with keys 'dW1','db1','dW2','db2','dW3','db3','dW4','db4' \n",
        "    '''\n",
        "    # YOUR CODE STARTS HERE\n",
        "\n",
        "\n",
        "    return gradients\n",
        "    raise NotImplementedError()"
      ],
      "metadata": {
        "id": "KIQK8eSf2GAr"
      },
      "execution_count": null,
      "outputs": []
    },
    {
      "cell_type": "code",
      "source": [
        "#Sample test case\n",
        "np.random.seed(seed)\n",
        "params = initialization(3, 3, 2, 2, 1)\n",
        "X = np.random.rand(10,3)\n",
        "y_forward,l = feed_forward(X,params)\n",
        "lmbda = 0.005\n",
        "gradients = backpropagation(X,y_forward,l,y_forward,params,lmbda)\n",
        "assert gradients['dW1'].shape == (3,3)\n",
        "assert gradients['db4'].shape == (1,1)\n",
        "print('Sample Test passed', '\\U0001F44D')"
      ],
      "metadata": {
        "id": "YXpD2IAkgbAI"
      },
      "execution_count": null,
      "outputs": []
    },
    {
      "cell_type": "markdown",
      "source": [
        "## Updating the weights\n",
        "**Adam**\n",
        "\n",
        "\n",
        "Adaptive Moment Estimation (Adam) is a method that computes adaptive learning rates for each parameter. In addition to storing an exponentially decaying average of past squared gradients like RMSprop, Adam also keeps an exponentially decaying average of past gradients, similar to momentum. Whereas \n",
        "momentum can be seen as a ball running down a slope, Adam behaves like a heavy ball with friction, which thus prefers flat minima in the error surface.\n",
        "        "
      ],
      "metadata": {
        "id": "9hWZ9B6thzWR"
      }
    },
    {
      "cell_type": "code",
      "source": [
        "def update(t, w, b, dw, db, m_dw, m_db, v_dw, v_db, eta=0.01, beta1=0.9, beta2=0.999, epsilon=1e-8):\n",
        "      ## dw, db are from current minibatch\n",
        "      ## momentum beta 1\n",
        "      # *** weights *** #\n",
        "      m_dw = beta1*m_dw + (1-beta1)*dw\n",
        "      # *** biases *** #\n",
        "      m_db = beta1*m_db + (1-beta1)*db\n",
        "\n",
        "      ## rms beta 2\n",
        "      # *** weights *** #\n",
        "      v_dw = beta2*v_dw + (1-beta2)*(dw**2)\n",
        "      # *** biases *** #\n",
        "      v_db = beta2*v_db + (1-beta2)*(np.abs(db))\n",
        "\n",
        "      ## bias correction\n",
        "      m_dw_corr = m_dw/(1-beta1**t)\n",
        "      m_db_corr = m_db/(1-beta1**t)\n",
        "      v_dw_corr = v_dw/(1-beta2**t)\n",
        "      v_db_corr = v_db/(1-beta2**t)\n",
        "\n",
        "\n",
        "      ## update weights and biases\n",
        "      w = w - eta*(m_dw_corr/(np.sqrt(v_dw_corr)+epsilon))\n",
        "      b = b - eta*(m_db_corr/(np.sqrt(v_db_corr)+epsilon))\n",
        "      return w, b, m_dw, m_db, v_dw, v_db"
      ],
      "metadata": {
        "id": "VsJ_90tO6C-K"
      },
      "execution_count": null,
      "outputs": []
    },
    {
      "cell_type": "markdown",
      "source": [
        "## Training the Model [1 mark]\n"
      ],
      "metadata": {
        "id": "7Icf6gEiWWfN"
      }
    },
    {
      "cell_type": "markdown",
      "metadata": {
        "deletable": false,
        "editable": false,
        "id": "S-dpVBUFyjVc",
        "nbgrader": {
          "cell_type": "markdown",
          "checksum": "ae4f19931326b4945c059a74ad12111a",
          "grade": false,
          "grade_id": "cell-2ad5c40d5a7ae608",
          "locked": true,
          "schema_version": 3,
          "solution": false,
          "task": false
        }
      },
      "source": [
        "For training the model you need to do the following in the next function:\n",
        "\n",
        "1) You are provided with *X, yd, parameters* as arguments. *X* and *yd* are scaled so **DO NOT** scale them again inside this *training* function \n",
        "\n",
        "2) Store W1 to W4 and b1 to b4 (weights and biases) in **seperate variables** by accessing the *parameters* argument\n",
        "\n",
        "3) Initialise an empty list to which you will append the loss of every iteration\n",
        "\n",
        "4) Now for N number of iterations:\n",
        "     - compute y_predicted and a5 using feedforward\n",
        "     \n",
        "     - compute loss using y_predicted and yd - say loss_1\n",
        "     \n",
        "     - calculate regularization loss say loss_2\n",
        "     \n",
        "     - total loss = loss_1 + loss_2\n",
        "     \n",
        "     - append this to the list you created in step 3\n",
        "     \n",
        "     - calculate gradients\n",
        "     \n",
        "     - update W1 to W4 and b1 to b4 by using the gradients calculated above\n",
        "     \n",
        "     - in the next iteration, when using feed forward use these updated W1 to W4 and b1 to b4\n",
        "     \n",
        "     - And then follow this for N iterations\n",
        "     \n",
        "5) Return the history of loss, loss_val (that list you created in step 3 populated with loss of every iteration) and the trained *parameters*"
      ]
    },
    {
      "cell_type": "code",
      "source": [
        "# GRADED - 1 Mark\n",
        "\n",
        "# Make a habit to print the value of loss after a fixed number of iterations to \n",
        "# check whether your model is working well or not.\n",
        "\n",
        "def training(X, yd, parameters, alpha = 0.01, num_iters=3000, lmbda = 0.0001):\n",
        "    '''\n",
        "      Inputs:\n",
        "      - X: Input features - shape (no of features, no of examples)\n",
        "      - yd: y desired values(labels given in dataset)\n",
        "      - parameters: the currents weights, biases and the runnning moments and variance\n",
        "      - alpha: learning rate\n",
        "      - num_iters: number of iterations\n",
        "      - lmbda: regularization parameter\n",
        "\n",
        "      Outputs:\n",
        "      - history: list of loss at the start of each iteration \n",
        "      - parameters: the final parameters in the order\n",
        "        [W1_new, b1_new, m_dw1_new, m_db1_new, v_dw1_new, v_db1_new, \n",
        "        W2_new, b2_new, m_dw2_new, m_db2_new, v_dw2_new, v_db2_new, \n",
        "        W3_new, b3_new, m_dw3_new, m_db3_new, v_dw3_new, v_db3_new,\n",
        "        W4_new, b4_new, m_dw4_new, m_db4_new, v_dw4_new, v_db4_new]\n",
        "    '''\n",
        "    # YOUR CODE STARTS HERE\n",
        "    return history, parameters\n",
        "    raise NotImplementedError()"
      ],
      "metadata": {
        "id": "7NXwHNLQ58O0"
      },
      "execution_count": null,
      "outputs": []
    },
    {
      "cell_type": "code",
      "source": [
        "#Sample test case\n",
        "np.random.seed(seed)\n",
        "parameters = initialization(3, 8, 16, 8, 1)\n",
        "history, parameters_final = training(x_train.T, y_train, parameters, alpha = 0.05, num_iters=500, lmbda = 0.0001)\n",
        "\n",
        "assert np.allclose(parameters_final[1][2],-0.05750826)\n",
        "assert np.allclose(parameters_final[6][0][0],0.9983610037602721)\n",
        "print('Sample Test passed', '\\U0001F44D')"
      ],
      "metadata": {
        "id": "dVoGeNJv8Po5"
      },
      "execution_count": null,
      "outputs": []
    },
    {
      "cell_type": "markdown",
      "source": [
        "## Plots of Training Loss versus Number of Iterations\n",
        "\n"
      ],
      "metadata": {
        "id": "oL_m4mR3lS5V"
      }
    },
    {
      "cell_type": "code",
      "source": [
        "## Training Loss\n",
        "plt.plot(history)\n",
        "plt.ylabel('loss')\n",
        "plt.xlabel('iterations')\n",
        "plt.title(\"Learning rate =\" + str(0.05))\n",
        "plt.show()"
      ],
      "metadata": {
        "id": "Pj7MFFf9Qyea"
      },
      "execution_count": null,
      "outputs": []
    },
    {
      "cell_type": "markdown",
      "source": [
        "## Calculating Final Accuracy\n",
        "You should get a value of around 0.6 on the training data and around 0.58 on the test data."
      ],
      "metadata": {
        "id": "dCl8GFAHj0If"
      }
    },
    {
      "cell_type": "code",
      "source": [
        "y_final = feed_forward(x_train, parameters_final)\n",
        "y_final = (y_final[0] >= 0.5)*1 \n",
        "train_acc = np.sum((y_final == y_train))/ y_train.shape[0]\n",
        "print(train_acc)"
      ],
      "metadata": {
        "id": "6gf2LjQWRIRj"
      },
      "execution_count": null,
      "outputs": []
    },
    {
      "cell_type": "code",
      "source": [
        "y_final = feed_forward(x_test, parameters_final)\n",
        "y_final = (y_final[0] >= 0.5)*1 \n",
        "test_acc = np.sum((y_final == y_test))/ y_test.shape[0]\n",
        "print(test_acc)"
      ],
      "metadata": {
        "id": "VdmpZ-yJQ2yF"
      },
      "execution_count": null,
      "outputs": []
    }
  ]
}